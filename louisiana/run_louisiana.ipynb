{
 "cells": [
  {
   "cell_type": "code",
   "execution_count": 1,
   "id": "3b7684c1-cc5f-4136-bd2a-3d63d7fba819",
   "metadata": {},
   "outputs": [],
   "source": [
    "# add path to sispeuede to sys.path in python\n",
    "import sys\n",
    "import warnings\n",
    "dir_git = \"/Users/usuario/git/sisepuede\"\n",
    "if dir_git not in sys.path:\n",
    "    sys.path.append(dir_git)\n",
    "\n",
    "\n",
    "warnings.filterwarnings(\"ignore\")\n",
    "\n",
    "import logging\n",
    "import importlib\n",
    "import matplotlib.pyplot as plt\n",
    "import numpy as np\n",
    "import os, os.path\n",
    "import pandas as pd\n",
    "import pathlib\n",
    "import sisepuede as ssp\n",
    "import sisepuede.core.model_attributes as ma\n",
    "import sisepuede.core.model_variable as mv\n",
    "import sisepuede.core.support_classes as sc\n",
    "import sisepuede.manager.sisepuede_examples as sxm\n",
    "import sisepuede.manager.sisepuede_file_structure as sfs\n",
    "import sisepuede.manager.sisepuede_models as sm\n",
    "import sisepuede.transformers as trf\n",
    "import sisepuede.utilities._toolbox as sf\n",
    "import time\n",
    "from typing import *\n",
    "\n",
    "\n",
    "\n",
    "\n",
    "def _setup_logger(namespace: str, fn_out: Union[str, None] = None) -> None:\n",
    "    global logger\n",
    "    \n",
    "    format_str = \"%(asctime)s - %(levelname)s - %(message)s\"\n",
    "    # configure\n",
    "    if fn_out is not None:\n",
    "        logging.basicConfig(\n",
    "            filename = fn_out,\n",
    "            filemode = \"w\",\n",
    "            format = format_str,\n",
    "            level = logging.DEBUG\n",
    "        )\n",
    "    else:\n",
    "        logging.basicConfig(\n",
    "            format = format_str,\n",
    "            level = logging.DEBUG\n",
    "        )\n",
    "        \n",
    "    logger = logging.getLogger(namespace)\n",
    "    # create console handler and set level to debug\n",
    "    ch = logging.StreamHandler()\n",
    "    ch.setLevel(logging.DEBUG)\n",
    "    # create formatter\n",
    "    formatter = logging.Formatter(format_str)\n",
    "    # add formatter to ch\n",
    "    ch.setFormatter(formatter)\n",
    "    # add ch to logger\n",
    "    logger.addHandler(ch)\n",
    "\n",
    "    return logger\n",
    "\n",
    "_setup_logger(__name__, os.path.join(os.getcwd(), \"log_build_sisepuede_transformations.log\"))\n",
    "\n",
    "\n",
    "#\n",
    "#   WRITE EVERYTHING TO OUTPUTS\n",
    "#\n",
    "\n",
    "# write outputs\n",
    "dir_out = \"/Users/usuario/Documents/Personal Files/Other Work/Louisiana/temp_data\"\n",
    "if not os.path.exists(dir_out):\n",
    "    os.makedirs(dir_out, exist_ok = True)\n"
   ]
  },
  {
   "cell_type": "markdown",
   "id": "bcf4f77b-3468-487e-9d87-3348a7f827dc",
   "metadata": {},
   "source": [
    "# Setup the file structure and read in data"
   ]
  },
  {
   "cell_type": "code",
   "execution_count": 2,
   "id": "cca20b41-d970-457d-a076-0d5ad4c5c2eb",
   "metadata": {},
   "outputs": [],
   "source": [
    "struct = sfs.SISEPUEDEFileStructure()\n",
    "examples = sxm.SISEPUEDEExamples()\n",
    "\n",
    "matt = struct.model_attributes\n",
    "regions = sc.Regions(matt)\n",
    "time_periods = sc.TimePeriods(matt)\n",
    "\n",
    "# directories\n",
    "path_cur = pathlib.Path(os.getcwd())\n",
    "path_data = path_cur.joinpath(\"data\")\n",
    "path_transformations = path_cur.joinpath(\"transformations\")\n",
    "if not path_transformations.exists():\n",
    "    path_transformations.mkdir(exist_ok = True, )\n",
    "\n",
    "# file paths\n",
    "fp_inputs = \"/Users/usuario/Documents/Projects/Louisiana/quick_data/louisiana_working_data_20240826/MODEL_INPUTS.csv\"\n",
    "\n"
   ]
  },
  {
   "cell_type": "code",
   "execution_count": null,
   "id": "b67df2e5-4703-4ea8-89c5-6ac4e22c09f5",
   "metadata": {},
   "outputs": [],
   "source": []
  },
  {
   "cell_type": "markdown",
   "id": "f0e3b652-aa72-41ce-b9d8-d58c897fa67f",
   "metadata": {},
   "source": [
    "##  Format input data"
   ]
  },
  {
   "cell_type": "code",
   "execution_count": 3,
   "id": "82f6dcfa-921d-410c-8699-e6e1ad04a61c",
   "metadata": {},
   "outputs": [],
   "source": [
    "# read in default data\n",
    "regions_run = [\"louisiana\"]\n",
    "\n",
    "df_inputs_base_la = pd.read_csv(fp_inputs, )\n",
    "df_input = df_inputs_base_la.copy()\n",
    "\n",
    "\n",
    "# overwrite some variables\n",
    "for mvname in [\"Agriculture Equivalent Exports\", \"Livestock Equivalent Exports\"]:\n",
    "    modvar = matt.get_variable(mvname)\n",
    "    if modvar is None:\n",
    "        raise RuntimeError(f\"Error: model variable '{mvname}' not found.\")\n",
    "    df_input[modvar.fields] = 0\n",
    "\n",
    "\n",
    "# filter\n",
    "field_region = regions.key\n",
    "regions_run = [\n",
    "    x for x in regions_run if x in list(df_input[field_region].unique())\n",
    "]\n",
    "\n",
    "# reduce inputs\n",
    "df_input = (\n",
    "    df_input[\n",
    "        df_input[field_region].isin(regions_run)\n",
    "    ]\n",
    "    .drop(columns = [matt.dim_primary_id])\n",
    "    .reset_index(drop = True)\n",
    ")\n"
   ]
  },
  {
   "cell_type": "markdown",
   "id": "9b70ce54-0b81-44ee-a606-07540d9cecb2",
   "metadata": {},
   "source": [
    "# build transformations"
   ]
  },
  {
   "cell_type": "code",
   "execution_count": 5,
   "id": "2168c90d-f027-489f-acc8-40e67e1c28ed",
   "metadata": {},
   "outputs": [
    {
     "name": "stdout",
     "output_type": "stream",
     "text": [
      "Strategies defined at /Users/usuario/git/sisepuede_region_nbs/louisiana/transformations initialized in 1.6 seconds\n"
     ]
    }
   ],
   "source": [
    "transformers = trf.Transformers(\n",
    "    {},\n",
    "    df_input = df_input,\n",
    ")\n",
    "\n",
    "if not path_transformations.exists():\n",
    "    \n",
    "    print(\"BUILDING DEFAULT TRANSFORMATIONS\")\n",
    "    \n",
    "    trf.instantiate_default_strategy_directory(\n",
    "        transformers,\n",
    "        path_transformations,\n",
    "    )\n",
    "\n",
    "\n",
    "# then, you can load this back in after modifying (play around with it)\n",
    "transformations = trf.Transformations(\n",
    "    path_transformations,\n",
    "    transformers = transformers,\n",
    ")\n",
    "tab = transformations.attribute_transformation.table\n",
    "\n",
    "\n",
    "# build strategies\n",
    "#  build the strategies -- will export to path\n",
    "t0 = time.time()\n",
    "strategies = trf.Strategies(\n",
    "    transformations,\n",
    "    export_path = \"transformations\",\n",
    "    prebuild = True,\n",
    ")\n",
    "\n",
    "t_elapse = sf.get_time_elapsed(t0)\n",
    "print(f\"Strategies defined at {strategies.transformations.dir_init} initialized in {t_elapse} seconds\")\n",
    "\n",
    "# build whirlpool with existing data\n",
    "# tss = strategies.build_whirlpool_strategies(6004, ids = list(range(7101, 7160)))\n",
    "\n",
    "\n",
    "\n"
   ]
  },
  {
   "cell_type": "code",
   "execution_count": 6,
   "id": "4a2cefe6-3984-47ea-865e-f57041f564a3",
   "metadata": {},
   "outputs": [
    {
     "data": {
      "text/plain": [
       "0"
      ]
     },
     "execution_count": 6,
     "metadata": {},
     "output_type": "execute_result"
    }
   ],
   "source": [
    "df_vargroups = examples(\"variable_trajectory_group_specification\")\n",
    "strategies.build_strategies_to_templates(\n",
    "    df_trajgroup = df_vargroups,\n",
    "    include_simplex_group_as_trajgroup = True,\n",
    "    strategies = [0, 6002],#strategies.all_strategies,#list(range(7101, 7160)),#[0, 6003, 6004, 6005] #+ list(range(7001, 7062)), # list(range(7101, 7160))\n",
    ")\n"
   ]
  },
  {
   "cell_type": "code",
   "execution_count": 31,
   "id": "0c0abb82-db35-4235-a698-313e0ba42838",
   "metadata": {},
   "outputs": [],
   "source": []
  },
  {
   "cell_type": "code",
   "execution_count": null,
   "id": "3fcbace4-9f06-4287-a7ca-bcc301cfb0b2",
   "metadata": {},
   "outputs": [],
   "source": []
  }
 ],
 "metadata": {
  "kernelspec": {
   "display_name": "Python 3 (ipykernel)",
   "language": "python",
   "name": "python3"
  },
  "language_info": {
   "codemirror_mode": {
    "name": "ipython",
    "version": 3
   },
   "file_extension": ".py",
   "mimetype": "text/x-python",
   "name": "python",
   "nbconvert_exporter": "python",
   "pygments_lexer": "ipython3",
   "version": "3.11.8"
  }
 },
 "nbformat": 4,
 "nbformat_minor": 5
}
